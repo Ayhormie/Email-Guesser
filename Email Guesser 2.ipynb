{
 "cells": [
  {
   "cell_type": "code",
   "execution_count": 1,
   "id": "0eeec615",
   "metadata": {},
   "outputs": [],
   "source": [
    "import pandas as pd"
   ]
  },
  {
   "cell_type": "code",
   "execution_count": 2,
   "id": "169a56a5",
   "metadata": {},
   "outputs": [
    {
     "name": "stdout",
     "output_type": "stream",
     "text": [
      "*   *   *   *   *   reading in linkedin...   *   *   *   *   *\n",
      "*   *   *   *   *   cleaning the data...   *   *   *   *   *   *\n",
      "*   *   *   *   *   creating email list...   *   *   *   *   *   *\n",
      "MichaelOgunkanmi@reesby.com\n",
      "Michael.Ogunkanmi@reesby.com\n",
      "MOgunkanmi@reesby.com\n",
      "M.Ogunkanmi@reesby.com\n",
      "TravisGreen@malih.com\n",
      "Travis.Green@malih.com\n",
      "TGreen@malih.com\n",
      "T.Green@malih.com\n",
      "BessyMukaira@reesby.com\n",
      "Bessy.Mukaira@reesby.com\n",
      "BMukaira@reesby.com\n",
      "B.Mukaira@reesby.com\n",
      "ManwellH@reesby.com\n",
      "Manwell.H@reesby.com\n",
      "MH@reesby.com\n",
      "M.H@reesby.com\n"
     ]
    }
   ],
   "source": [
    "def main_loop(df):\n",
    "    emails = []\n",
    "    for index, row in df.iterrows():\n",
    "        # first last\n",
    "        emails.append(\n",
    "            \"\".join([row[\"first_name\"], row[\"last_name\"], \"@\", row[\"company\"], \".com\"])\n",
    "        )\n",
    "        # first.last\n",
    "        emails.append(\n",
    "            \"\".join(\n",
    "                [row[\"first_name\"], \".\", row[\"last_name\"], \"@\", row[\"company\"], \".com\"]\n",
    "            )\n",
    "        )\n",
    "        # firstletter last\n",
    "        emails.append(\n",
    "            \"\".join(\n",
    "                [\n",
    "                    row[\"first_name\"][0],\n",
    "                    row[\"last_name\"],\n",
    "                    \"@\",\n",
    "                    row[\"company\"],\n",
    "                    \".com\",\n",
    "                ]\n",
    "            )\n",
    "        )\n",
    "        # firstletter.last\n",
    "        emails.append(\n",
    "            \"\".join(\n",
    "                [\n",
    "                    row[\"first_name\"][0],\n",
    "                    \".\",\n",
    "                    row[\"last_name\"],\n",
    "                    \"@\",\n",
    "                    row[\"company\"],\n",
    "                    \".com\",\n",
    "                ]\n",
    "            )\n",
    "        )\n",
    "    return emails\n",
    "\n",
    "\n",
    "def main():\n",
    "    print(\"*   \" * 5 + \"reading in linkedin...\" + \"   *\" * 5)\n",
    "    df = pd.read_csv(\"linkedin\")\n",
    "\n",
    "    print(\"*   \" * 5 + \"cleaning the data...\" + \"   *\" * 6)\n",
    "    df[[\"first_name\", \"last_name\"]] = (\n",
    "        df[\"full_name\"]\n",
    "        .loc[df[\"full_name\"].str.split().str.len() == 2]\n",
    "        .str.split(expand=True)\n",
    "    )\n",
    "    df[\"company\"] = df[\"company\"].str.replace(\" \", \"\")\n",
    "\n",
    "    # iterate over dataframe, construct email list\n",
    "    email_list = main_loop(df=df)\n",
    "    print(\"*   \" * 5 + \"creating email list...\" + \"   *\" * 6)\n",
    "\n",
    "    # output emails to text file\n",
    "    output_file = open(\"output.txt\", \"w\")\n",
    "    for email in email_list:\n",
    "        print(email)\n",
    "        output_file.write(email)\n",
    "        output_file.write(\"\\n\")\n",
    "    output_file.close()\n",
    "\n",
    "\n",
    "if __name__ == \"__main__\":\n",
    "    main()"
   ]
  },
  {
   "cell_type": "code",
   "execution_count": null,
   "id": "772026e6",
   "metadata": {},
   "outputs": [],
   "source": []
  },
  {
   "cell_type": "code",
   "execution_count": null,
   "id": "972ddd73",
   "metadata": {},
   "outputs": [],
   "source": []
  },
  {
   "cell_type": "code",
   "execution_count": null,
   "id": "69ac74a8",
   "metadata": {},
   "outputs": [],
   "source": []
  },
  {
   "cell_type": "code",
   "execution_count": null,
   "id": "edde8554",
   "metadata": {},
   "outputs": [],
   "source": []
  },
  {
   "cell_type": "code",
   "execution_count": null,
   "id": "6707d5b3",
   "metadata": {},
   "outputs": [],
   "source": []
  }
 ],
 "metadata": {
  "kernelspec": {
   "display_name": "Python 3",
   "language": "python",
   "name": "python3"
  },
  "language_info": {
   "codemirror_mode": {
    "name": "ipython",
    "version": 3
   },
   "file_extension": ".py",
   "mimetype": "text/x-python",
   "name": "python",
   "nbconvert_exporter": "python",
   "pygments_lexer": "ipython3",
   "version": "3.8.8"
  }
 },
 "nbformat": 4,
 "nbformat_minor": 5
}
